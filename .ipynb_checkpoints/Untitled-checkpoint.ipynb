{
 "cells": [
  {
   "cell_type": "code",
   "execution_count": 1,
   "id": "4dc85276",
   "metadata": {},
   "outputs": [],
   "source": [
    "import numpy as np\n",
    "import matplotlib.pyplot as plt\n",
    "from scipy.spatial.distance import cdist"
   ]
  },
  {
   "cell_type": "code",
   "execution_count": 2,
   "id": "c6434c17",
   "metadata": {},
   "outputs": [
    {
     "data": {
      "text/plain": [
       "array([[0.51394334, 0.77316505],\n",
       "       [0.87042769, 0.00804695],\n",
       "       [0.30973593, 0.95760374],\n",
       "       [0.51311671, 0.31828442],\n",
       "       [0.53919994, 0.22125494],\n",
       "       [0.80648136, 0.34225463],\n",
       "       [0.53888885, 0.00587379],\n",
       "       [0.67315248, 0.21002426],\n",
       "       [0.93255759, 0.37424475],\n",
       "       [0.75241892, 0.763139  ],\n",
       "       [0.87049946, 0.11011118],\n",
       "       [0.30009198, 0.47490577],\n",
       "       [0.67293672, 0.25759243],\n",
       "       [0.70115132, 0.65700006],\n",
       "       [0.18200776, 0.32206299],\n",
       "       [0.88753746, 0.08334916],\n",
       "       [0.74656412, 0.06235005],\n",
       "       [0.73148113, 0.74251135],\n",
       "       [0.40791581, 0.991383  ],\n",
       "       [0.4521373 , 0.18987854]])"
      ]
     },
     "execution_count": 2,
     "metadata": {},
     "output_type": "execute_result"
    }
   ],
   "source": [
    "np.random.seed(14)\n",
    "n = 20\n",
    "p = 2\n",
    "k = 3\n",
    "X = np.random.random((n,p))\n",
    "X"
   ]
  },
  {
   "cell_type": "code",
   "execution_count": 3,
   "id": "c3a692a4",
   "metadata": {},
   "outputs": [
    {
     "data": {
      "text/plain": [
       "<matplotlib.collections.PathCollection at 0x257f2b6e670>"
      ]
     },
     "execution_count": 3,
     "metadata": {},
     "output_type": "execute_result"
    },
    {
     "data": {
      "image/png": "[encoded data removed]",
      "text/plain": [
       "<Figure size 432x288 with 1 Axes>"
      ]
     },
     "metadata": {
      "needs_background": "light"
     },
     "output_type": "display_data"
    }
   ],
   "source": [
    "plt.scatter(X[:,0],X[:,1])"
   ]
  },
  {
   "cell_type": "code",
   "execution_count": 4,
   "id": "f4ace745",
   "metadata": {},
   "outputs": [],
   "source": [
    "# init centers\n",
    "centers = X[np.random.choice(n,k,replace=False)]"
   ]
  },
  {
   "cell_type": "code",
   "execution_count": 5,
   "id": "ef856ac2",
   "metadata": {},
   "outputs": [
    {
     "data": {
      "text/plain": [
       "0.7676966627027265"
      ]
     },
     "execution_count": 5,
     "metadata": {},
     "output_type": "execute_result"
    }
   ],
   "source": [
    "((X[0] - centers[0])**2).sum()**0.5"
   ]
  },
  {
   "cell_type": "code",
   "execution_count": 6,
   "id": "38f9185c",
   "metadata": {
    "scrolled": true
   },
   "outputs": [
    {
     "data": {
      "text/plain": [
       "array([0.76769666, 0.33154596, 0.97892848, 0.31347187, 0.21538138,\n",
       "       0.42983464, 0.        , 0.2443443 , 0.53914029, 0.78679457,\n",
       "       0.34760758, 0.52632209, 0.2851861 , 0.67103989, 0.47680156,\n",
       "       0.35715303, 0.21521753, 0.76139786, 0.9941742 , 0.20342955])"
      ]
     },
     "execution_count": 6,
     "metadata": {},
     "output_type": "execute_result"
    }
   ],
   "source": [
    "(((X - centers[0])**2).sum(axis=1))**0.5"
   ]
  },
  {
   "cell_type": "code",
   "execution_count": 7,
   "id": "e34548aa",
   "metadata": {},
   "outputs": [
    {
     "data": {
      "text/plain": [
       "array([[0.76769666, 0.78448615, 0.36700273],\n",
       "       [0.33154596, 0.07722155, 0.73704815],\n",
       "       [0.97892848, 1.04793878, 0.4827943 ],\n",
       "       [0.31347187, 0.44202429, 0.26440458],\n",
       "       [0.21538138, 0.37464254, 0.34858479],\n",
       "       [0.42983464, 0.27129713, 0.52347543],\n",
       "       [0.        , 0.35715303, 0.52632209],\n",
       "       [0.2443443 , 0.24901305, 0.45753289],\n",
       "       [0.53914029, 0.29435872, 0.64042595],\n",
       "       [0.78679457, 0.6930882 , 0.53635628],\n",
       "       [0.34760758, 0.03172537, 0.67708181],\n",
       "       [0.52632209, 0.70598071, 0.        ],\n",
       "       [0.2851861 , 0.27643117, 0.43155334],\n",
       "       [0.67103989, 0.60317091, 0.44046217],\n",
       "       [0.47680156, 0.74481974, 0.1931445 ],\n",
       "       [0.35715303, 0.        , 0.70598071],\n",
       "       [0.21521753, 0.14252875, 0.60789768],\n",
       "       [0.76139786, 0.67738348, 0.50765081],\n",
       "       [0.9941742 , 1.02691887, 0.52761227],\n",
       "       [0.20342955, 0.44824302, 0.32304535]])"
      ]
     },
     "execution_count": 7,
     "metadata": {},
     "output_type": "execute_result"
    }
   ],
   "source": [
    "(((X.reshape(n,1,p) - centers.reshape(1,k,p))**2).sum(axis=2))**0.5"
   ]
  },
  {
   "cell_type": "code",
   "execution_count": 8,
   "id": "613adf55",
   "metadata": {},
   "outputs": [
    {
     "data": {
      "text/plain": [
       "array([[0.76769666, 0.78448615, 0.36700273],\n",
       "       [0.33154596, 0.07722155, 0.73704815],\n",
       "       [0.97892848, 1.04793878, 0.4827943 ],\n",
       "       [0.31347187, 0.44202429, 0.26440458],\n",
       "       [0.21538138, 0.37464254, 0.34858479],\n",
       "       [0.42983464, 0.27129713, 0.52347543],\n",
       "       [0.        , 0.35715303, 0.52632209],\n",
       "       [0.2443443 , 0.24901305, 0.45753289],\n",
       "       [0.53914029, 0.29435872, 0.64042595],\n",
       "       [0.78679457, 0.6930882 , 0.53635628],\n",
       "       [0.34760758, 0.03172537, 0.67708181],\n",
       "       [0.52632209, 0.70598071, 0.        ],\n",
       "       [0.2851861 , 0.27643117, 0.43155334],\n",
       "       [0.67103989, 0.60317091, 0.44046217],\n",
       "       [0.47680156, 0.74481974, 0.1931445 ],\n",
       "       [0.35715303, 0.        , 0.70598071],\n",
       "       [0.21521753, 0.14252875, 0.60789768],\n",
       "       [0.76139786, 0.67738348, 0.50765081],\n",
       "       [0.9941742 , 1.02691887, 0.52761227],\n",
       "       [0.20342955, 0.44824302, 0.32304535]])"
      ]
     },
     "execution_count": 8,
     "metadata": {},
     "output_type": "execute_result"
    }
   ],
   "source": [
    "distances = np.zeros((n,k))\n",
    "for i in range(k):\n",
    "    distances[:,i] = (((X - centers[i])**2).sum(axis=1))**0.5\n",
    "distances"
   ]
  },
  {
   "cell_type": "code",
   "execution_count": 9,
   "id": "c222ad25",
   "metadata": {},
   "outputs": [
    {
     "data": {
      "text/plain": [
       "array([[0.76769666, 0.78448615, 0.36700273],\n",
       "       [0.33154596, 0.07722155, 0.73704815],\n",
       "       [0.97892848, 1.04793878, 0.4827943 ],\n",
       "       [0.31347187, 0.44202429, 0.26440458],\n",
       "       [0.21538138, 0.37464254, 0.34858479],\n",
       "       [0.42983464, 0.27129713, 0.52347543],\n",
       "       [0.        , 0.35715303, 0.52632209],\n",
       "       [0.2443443 , 0.24901305, 0.45753289],\n",
       "       [0.53914029, 0.29435872, 0.64042595],\n",
       "       [0.78679457, 0.6930882 , 0.53635628],\n",
       "       [0.34760758, 0.03172537, 0.67708181],\n",
       "       [0.52632209, 0.70598071, 0.        ],\n",
       "       [0.2851861 , 0.27643117, 0.43155334],\n",
       "       [0.67103989, 0.60317091, 0.44046217],\n",
       "       [0.47680156, 0.74481974, 0.1931445 ],\n",
       "       [0.35715303, 0.        , 0.70598071],\n",
       "       [0.21521753, 0.14252875, 0.60789768],\n",
       "       [0.76139786, 0.67738348, 0.50765081],\n",
       "       [0.9941742 , 1.02691887, 0.52761227],\n",
       "       [0.20342955, 0.44824302, 0.32304535]])"
      ]
     },
     "execution_count": 9,
     "metadata": {},
     "output_type": "execute_result"
    }
   ],
   "source": [
    "cdist(X,centers)"
   ]
  },
  {
   "cell_type": "code",
   "execution_count": 10,
   "id": "fc585e4f",
   "metadata": {},
   "outputs": [],
   "source": [
    "distances = cdist(X, centers)"
   ]
  },
  {
   "cell_type": "code",
   "execution_count": 12,
   "id": "f98907f0",
   "metadata": {},
   "outputs": [],
   "source": [
    "closest = np.argmin(distances, axis = 1)"
   ]
  },
  {
   "cell_type": "code",
   "execution_count": 13,
   "id": "7c050843",
   "metadata": {},
   "outputs": [
    {
     "data": {
      "text/plain": [
       "array([2, 1, 2, 2, 0, 1, 0, 0, 1, 2, 1, 2, 1, 2, 2, 1, 1, 2, 2, 0],\n",
       "      dtype=int64)"
      ]
     },
     "execution_count": 13,
     "metadata": {},
     "output_type": "execute_result"
    }
   ],
   "source": [
    "closest"
   ]
  },
  {
   "cell_type": "code",
   "execution_count": 17,
   "id": "b7c6d318",
   "metadata": {
    "scrolled": true
   },
   "outputs": [
    {
     "data": {
      "text/plain": [
       "array([0.55084464, 0.15675788])"
      ]
     },
     "execution_count": 17,
     "metadata": {},
     "output_type": "execute_result"
    }
   ],
   "source": [
    "X[closest == 0].mean(axis=0)"
   ]
  },
  {
   "cell_type": "code",
   "execution_count": 19,
   "id": "12a2545a",
   "metadata": {},
   "outputs": [
    {
     "data": {
      "text/plain": [
       "array([[0.55084464, 0.15675788],\n",
       "       [0.82671491, 0.17684988],\n",
       "       [0.49020699, 0.66667282]])"
      ]
     },
     "execution_count": 19,
     "metadata": {},
     "output_type": "execute_result"
    }
   ],
   "source": [
    "for i in range(k):\n",
    "    centers[i,:] = X[closest == i].mean(axis=0)\n",
    "centers"
   ]
  },
  {
   "cell_type": "code",
   "execution_count": 25,
   "id": "a804c0d3",
   "metadata": {},
   "outputs": [
    {
     "name": "stdout",
     "output_type": "stream",
     "text": [
      "[0 0 0 0 0 0 0 0 0 0 0 0 0 0 0 0 0 0 0 0]\n",
      "[2 0 2 1 1 1 0 1 1 2 1 2 1 2 2 1 0 2 2 1]\n",
      "[2 0 2 1 1 1 0 1 1 2 0 2 1 2 2 0 0 2 2 1]\n",
      "[2 0 2 1 1 1 0 1 1 2 0 2 1 2 1 0 0 2 2 1]\n",
      "[2 0 2 1 1 1 0 1 1 2 0 1 1 2 1 0 0 2 2 1]\n",
      "[2 0 2 1 1 1 0 1 0 2 0 1 1 2 1 0 0 2 2 1]\n",
      "[2 0 2 1 1 0 1 0 0 2 0 1 1 2 1 0 0 2 2 1]\n",
      "[2 0 2 1 1 0 1 0 0 2 0 1 0 2 1 0 0 2 2 1]\n"
     ]
    }
   ],
   "source": [
    "np.random.seed(4160659)\n",
    "# X[closest == 0].mean(axis=0)\n",
    "centers = X[np.random.choice(n,k,replace=False)]\n",
    "closest =np.zeros(n).astype(int)\n",
    "\n",
    "\n",
    "while True:\n",
    "    old_closest = closest.copy()\n",
    "#     for iteration in range(10):\n",
    "    print(closest)\n",
    "    distances = cdist(X,centers)\n",
    "    closest = np.argmin(distances,axis=1)\n",
    "\n",
    "    for i in range(k):\n",
    "        centers[i,:] = X[closest == i].mean(axis=0)\n",
    "\n",
    "    if all(closest == old_closest):\n",
    "        break"
   ]
  },
  {
   "cell_type": "code",
   "execution_count": 27,
   "id": "2d3cf2a7",
   "metadata": {},
   "outputs": [
    {
     "data": {
      "text/plain": [
       "<matplotlib.collections.PathCollection at 0x209a2c7beb0>"
      ]
     },
     "execution_count": 27,
     "metadata": {},
     "output_type": "execute_result"
    },
    {
     "data": {
      "image/png": "[encoded data removed]",
      "text/plain": [
       "<Figure size 432x288 with 1 Axes>"
      ]
     },
     "metadata": {
      "needs_background": "light"
     },
     "output_type": "display_data"
    }
   ],
   "source": [
    "plt.scatter(X[:,0],X[:,1],c=closest)"
   ]
  },
  {
   "cell_type": "code",
   "execution_count": 40,
   "id": "1cd06b35",
   "metadata": {},
   "outputs": [],
   "source": [
    "def kmenas(X,k):\n",
    "\n",
    "    x = X.shape[0]\n",
    "    centers = X[np.random.choice(n,k,replace=False)]\n",
    "    closest =np.zeros(n).astype(int)\n",
    "\n",
    "\n",
    "    while True:\n",
    "        old_closest = closest.copy()\n",
    "    #     for iteration in range(10):\n",
    "        print(closest)\n",
    "        distances = cdist(X,centers)\n",
    "        closest = np.argmin(distances,axis=1)\n",
    "\n",
    "        for i in range(k):\n",
    "            centers[i,:] = X[closest == i].mean(axis=0)\n",
    "\n",
    "        if all(closest == old_closest):\n",
    "            break\n",
    "            \n",
    "    return closest, centers"
   ]
  },
  {
   "cell_type": "code",
   "execution_count": 41,
   "id": "91908e29",
   "metadata": {},
   "outputs": [
    {
     "name": "stdout",
     "output_type": "stream",
     "text": [
      "[0 0 0 0 0 0 0 0 0 0 0 0 0 0 0 0 0 0 0 0]\n",
      "[2 1 2 2 2 0 1 1 0 2 1 2 0 2 2 1 1 2 2 2]\n",
      "[2 1 2 2 1 0 1 1 0 2 1 2 0 2 2 1 1 2 2 1]\n",
      "[2 1 2 1 1 0 1 1 0 2 1 2 0 2 2 1 1 2 2 1]\n",
      "[2 1 2 1 1 0 1 1 0 2 1 2 1 2 2 1 1 2 2 1]\n",
      "[2 1 2 1 1 0 1 1 0 2 1 2 1 2 2 1 1 2 2 1]\n",
      "[[0.86951948 0.35824969]\n",
      " [0.67644607 0.14667657]\n",
      " [0.48734327 0.71022137]]\n"
     ]
    }
   ],
   "source": [
    "labels, centers = kmenas(X,3)\n",
    "print(labels)\n",
    "print(centers)"
   ]
  },
  {
   "cell_type": "code",
   "execution_count": null,
   "id": "e3448403",
   "metadata": {},
   "outputs": [],
   "source": []
  },
  {
   "cell_type": "code",
   "execution_count": null,
   "id": "8155e753",
   "metadata": {},
   "outputs": [],
   "source": []
  }
 ],
 "metadata": {
  "kernelspec": {
   "display_name": "K_Means_Algorithm",
   "language": "python",
   "name": "k_means_algorithm"
  },
  "language_info": {
   "codemirror_mode": {
    "name": "ipython",
    "version": 3
   },
   "file_extension": ".py",
   "mimetype": "text/x-python",
   "name": "python",
   "nbconvert_exporter": "python",
   "pygments_lexer": "ipython3",
   "version": "3.9.12"
  }
 },
 "nbformat": 4,
 "nbformat_minor": 5
}
