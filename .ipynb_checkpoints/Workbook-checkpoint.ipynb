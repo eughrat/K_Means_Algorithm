{
 "cells": [
  {
   "cell_type": "code",
   "execution_count": 10,
   "id": "4dc85276",
   "metadata": {},
   "outputs": [],
   "source": [
    "import numpy as np\n",
    "import pandas as pd\n",
    "import matplotlib.pyplot as plt\n",
    "import seaborn as sns\n",
    "from scipy.spatial.distance import cdist"
   ]
  },
  {
   "cell_type": "code",
   "execution_count": 3,
   "id": "c6434c17",
   "metadata": {
    "scrolled": true
   },
   "outputs": [],
   "source": [
    "X = pd.read_csv(r'C:\\Users\\mpiernicki\\PycharmProjects\\K_Means_Algorithm\\Iris.csv')"
   ]
  },
  {
   "cell_type": "code",
   "execution_count": 42,
   "id": "f1f9c523",
   "metadata": {},
   "outputs": [
    {
     "ename": "KeyError",
     "evalue": "\"['Id', 'Species'] not found in axis\"",
     "output_type": "error",
     "traceback": [
      "\u001b[1;31m---------------------------------------------------------------------------\u001b[0m",
      "\u001b[1;31mKeyError\u001b[0m                                  Traceback (most recent call last)",
      "Input \u001b[1;32mIn [42]\u001b[0m, in \u001b[0;36m<cell line: 1>\u001b[1;34m()\u001b[0m\n\u001b[1;32m----> 1\u001b[0m \u001b[43mX\u001b[49m\u001b[38;5;241;43m.\u001b[39;49m\u001b[43mdrop\u001b[49m\u001b[43m(\u001b[49m\u001b[43m[\u001b[49m\u001b[38;5;124;43m'\u001b[39;49m\u001b[38;5;124;43mId\u001b[39;49m\u001b[38;5;124;43m'\u001b[39;49m\u001b[43m,\u001b[49m\u001b[38;5;124;43m'\u001b[39;49m\u001b[38;5;124;43mSpecies\u001b[39;49m\u001b[38;5;124;43m'\u001b[39;49m\u001b[43m]\u001b[49m\u001b[43m,\u001b[49m\u001b[43m \u001b[49m\u001b[43maxis\u001b[49m\u001b[38;5;241;43m=\u001b[39;49m\u001b[38;5;241;43m1\u001b[39;49m\u001b[43m,\u001b[49m\u001b[43m \u001b[49m\u001b[43minplace\u001b[49m\u001b[38;5;241;43m=\u001b[39;49m\u001b[38;5;28;43;01mTrue\u001b[39;49;00m\u001b[43m)\u001b[49m\n\u001b[0;32m      2\u001b[0m X\u001b[38;5;241m.\u001b[39mhead()\n",
      "File \u001b[1;32m~\\Anaconda3\\envs\\K_Means_Algorithm\\lib\\site-packages\\pandas\\util\\_decorators.py:311\u001b[0m, in \u001b[0;36mdeprecate_nonkeyword_arguments.<locals>.decorate.<locals>.wrapper\u001b[1;34m(*args, **kwargs)\u001b[0m\n\u001b[0;32m    305\u001b[0m \u001b[38;5;28;01mif\u001b[39;00m \u001b[38;5;28mlen\u001b[39m(args) \u001b[38;5;241m>\u001b[39m num_allow_args:\n\u001b[0;32m    306\u001b[0m     warnings\u001b[38;5;241m.\u001b[39mwarn(\n\u001b[0;32m    307\u001b[0m         msg\u001b[38;5;241m.\u001b[39mformat(arguments\u001b[38;5;241m=\u001b[39marguments),\n\u001b[0;32m    308\u001b[0m         \u001b[38;5;167;01mFutureWarning\u001b[39;00m,\n\u001b[0;32m    309\u001b[0m         stacklevel\u001b[38;5;241m=\u001b[39mstacklevel,\n\u001b[0;32m    310\u001b[0m     )\n\u001b[1;32m--> 311\u001b[0m \u001b[38;5;28;01mreturn\u001b[39;00m func(\u001b[38;5;241m*\u001b[39margs, \u001b[38;5;241m*\u001b[39m\u001b[38;5;241m*\u001b[39mkwargs)\n",
      "File \u001b[1;32m~\\Anaconda3\\envs\\K_Means_Algorithm\\lib\\site-packages\\pandas\\core\\frame.py:4954\u001b[0m, in \u001b[0;36mDataFrame.drop\u001b[1;34m(self, labels, axis, index, columns, level, inplace, errors)\u001b[0m\n\u001b[0;32m   4806\u001b[0m \u001b[38;5;129m@deprecate_nonkeyword_arguments\u001b[39m(version\u001b[38;5;241m=\u001b[39m\u001b[38;5;28;01mNone\u001b[39;00m, allowed_args\u001b[38;5;241m=\u001b[39m[\u001b[38;5;124m\"\u001b[39m\u001b[38;5;124mself\u001b[39m\u001b[38;5;124m\"\u001b[39m, \u001b[38;5;124m\"\u001b[39m\u001b[38;5;124mlabels\u001b[39m\u001b[38;5;124m\"\u001b[39m])\n\u001b[0;32m   4807\u001b[0m \u001b[38;5;28;01mdef\u001b[39;00m \u001b[38;5;21mdrop\u001b[39m(\n\u001b[0;32m   4808\u001b[0m     \u001b[38;5;28mself\u001b[39m,\n\u001b[1;32m   (...)\u001b[0m\n\u001b[0;32m   4815\u001b[0m     errors: \u001b[38;5;28mstr\u001b[39m \u001b[38;5;241m=\u001b[39m \u001b[38;5;124m\"\u001b[39m\u001b[38;5;124mraise\u001b[39m\u001b[38;5;124m\"\u001b[39m,\n\u001b[0;32m   4816\u001b[0m ):\n\u001b[0;32m   4817\u001b[0m     \u001b[38;5;124;03m\"\"\"\u001b[39;00m\n\u001b[0;32m   4818\u001b[0m \u001b[38;5;124;03m    Drop specified labels from rows or columns.\u001b[39;00m\n\u001b[0;32m   4819\u001b[0m \n\u001b[1;32m   (...)\u001b[0m\n\u001b[0;32m   4952\u001b[0m \u001b[38;5;124;03m            weight  1.0     0.8\u001b[39;00m\n\u001b[0;32m   4953\u001b[0m \u001b[38;5;124;03m    \"\"\"\u001b[39;00m\n\u001b[1;32m-> 4954\u001b[0m     \u001b[38;5;28;01mreturn\u001b[39;00m \u001b[38;5;28;43msuper\u001b[39;49m\u001b[43m(\u001b[49m\u001b[43m)\u001b[49m\u001b[38;5;241;43m.\u001b[39;49m\u001b[43mdrop\u001b[49m\u001b[43m(\u001b[49m\n\u001b[0;32m   4955\u001b[0m \u001b[43m        \u001b[49m\u001b[43mlabels\u001b[49m\u001b[38;5;241;43m=\u001b[39;49m\u001b[43mlabels\u001b[49m\u001b[43m,\u001b[49m\n\u001b[0;32m   4956\u001b[0m \u001b[43m        \u001b[49m\u001b[43maxis\u001b[49m\u001b[38;5;241;43m=\u001b[39;49m\u001b[43maxis\u001b[49m\u001b[43m,\u001b[49m\n\u001b[0;32m   4957\u001b[0m \u001b[43m        \u001b[49m\u001b[43mindex\u001b[49m\u001b[38;5;241;43m=\u001b[39;49m\u001b[43mindex\u001b[49m\u001b[43m,\u001b[49m\n\u001b[0;32m   4958\u001b[0m \u001b[43m        \u001b[49m\u001b[43mcolumns\u001b[49m\u001b[38;5;241;43m=\u001b[39;49m\u001b[43mcolumns\u001b[49m\u001b[43m,\u001b[49m\n\u001b[0;32m   4959\u001b[0m \u001b[43m        \u001b[49m\u001b[43mlevel\u001b[49m\u001b[38;5;241;43m=\u001b[39;49m\u001b[43mlevel\u001b[49m\u001b[43m,\u001b[49m\n\u001b[0;32m   4960\u001b[0m \u001b[43m        \u001b[49m\u001b[43minplace\u001b[49m\u001b[38;5;241;43m=\u001b[39;49m\u001b[43minplace\u001b[49m\u001b[43m,\u001b[49m\n\u001b[0;32m   4961\u001b[0m \u001b[43m        \u001b[49m\u001b[43merrors\u001b[49m\u001b[38;5;241;43m=\u001b[39;49m\u001b[43merrors\u001b[49m\u001b[43m,\u001b[49m\n\u001b[0;32m   4962\u001b[0m \u001b[43m    \u001b[49m\u001b[43m)\u001b[49m\n",
      "File \u001b[1;32m~\\Anaconda3\\envs\\K_Means_Algorithm\\lib\\site-packages\\pandas\\core\\generic.py:4267\u001b[0m, in \u001b[0;36mNDFrame.drop\u001b[1;34m(self, labels, axis, index, columns, level, inplace, errors)\u001b[0m\n\u001b[0;32m   4265\u001b[0m \u001b[38;5;28;01mfor\u001b[39;00m axis, labels \u001b[38;5;129;01min\u001b[39;00m axes\u001b[38;5;241m.\u001b[39mitems():\n\u001b[0;32m   4266\u001b[0m     \u001b[38;5;28;01mif\u001b[39;00m labels \u001b[38;5;129;01mis\u001b[39;00m \u001b[38;5;129;01mnot\u001b[39;00m \u001b[38;5;28;01mNone\u001b[39;00m:\n\u001b[1;32m-> 4267\u001b[0m         obj \u001b[38;5;241m=\u001b[39m \u001b[43mobj\u001b[49m\u001b[38;5;241;43m.\u001b[39;49m\u001b[43m_drop_axis\u001b[49m\u001b[43m(\u001b[49m\u001b[43mlabels\u001b[49m\u001b[43m,\u001b[49m\u001b[43m \u001b[49m\u001b[43maxis\u001b[49m\u001b[43m,\u001b[49m\u001b[43m \u001b[49m\u001b[43mlevel\u001b[49m\u001b[38;5;241;43m=\u001b[39;49m\u001b[43mlevel\u001b[49m\u001b[43m,\u001b[49m\u001b[43m \u001b[49m\u001b[43merrors\u001b[49m\u001b[38;5;241;43m=\u001b[39;49m\u001b[43merrors\u001b[49m\u001b[43m)\u001b[49m\n\u001b[0;32m   4269\u001b[0m \u001b[38;5;28;01mif\u001b[39;00m inplace:\n\u001b[0;32m   4270\u001b[0m     \u001b[38;5;28mself\u001b[39m\u001b[38;5;241m.\u001b[39m_update_inplace(obj)\n",
      "File \u001b[1;32m~\\Anaconda3\\envs\\K_Means_Algorithm\\lib\\site-packages\\pandas\\core\\generic.py:4311\u001b[0m, in \u001b[0;36mNDFrame._drop_axis\u001b[1;34m(self, labels, axis, level, errors, consolidate, only_slice)\u001b[0m\n\u001b[0;32m   4309\u001b[0m         new_axis \u001b[38;5;241m=\u001b[39m axis\u001b[38;5;241m.\u001b[39mdrop(labels, level\u001b[38;5;241m=\u001b[39mlevel, errors\u001b[38;5;241m=\u001b[39merrors)\n\u001b[0;32m   4310\u001b[0m     \u001b[38;5;28;01melse\u001b[39;00m:\n\u001b[1;32m-> 4311\u001b[0m         new_axis \u001b[38;5;241m=\u001b[39m \u001b[43maxis\u001b[49m\u001b[38;5;241;43m.\u001b[39;49m\u001b[43mdrop\u001b[49m\u001b[43m(\u001b[49m\u001b[43mlabels\u001b[49m\u001b[43m,\u001b[49m\u001b[43m \u001b[49m\u001b[43merrors\u001b[49m\u001b[38;5;241;43m=\u001b[39;49m\u001b[43merrors\u001b[49m\u001b[43m)\u001b[49m\n\u001b[0;32m   4312\u001b[0m     indexer \u001b[38;5;241m=\u001b[39m axis\u001b[38;5;241m.\u001b[39mget_indexer(new_axis)\n\u001b[0;32m   4314\u001b[0m \u001b[38;5;66;03m# Case for non-unique axis\u001b[39;00m\n\u001b[0;32m   4315\u001b[0m \u001b[38;5;28;01melse\u001b[39;00m:\n",
      "File \u001b[1;32m~\\Anaconda3\\envs\\K_Means_Algorithm\\lib\\site-packages\\pandas\\core\\indexes\\base.py:6644\u001b[0m, in \u001b[0;36mIndex.drop\u001b[1;34m(self, labels, errors)\u001b[0m\n\u001b[0;32m   6642\u001b[0m \u001b[38;5;28;01mif\u001b[39;00m mask\u001b[38;5;241m.\u001b[39many():\n\u001b[0;32m   6643\u001b[0m     \u001b[38;5;28;01mif\u001b[39;00m errors \u001b[38;5;241m!=\u001b[39m \u001b[38;5;124m\"\u001b[39m\u001b[38;5;124mignore\u001b[39m\u001b[38;5;124m\"\u001b[39m:\n\u001b[1;32m-> 6644\u001b[0m         \u001b[38;5;28;01mraise\u001b[39;00m \u001b[38;5;167;01mKeyError\u001b[39;00m(\u001b[38;5;124mf\u001b[39m\u001b[38;5;124m\"\u001b[39m\u001b[38;5;132;01m{\u001b[39;00m\u001b[38;5;28mlist\u001b[39m(labels[mask])\u001b[38;5;132;01m}\u001b[39;00m\u001b[38;5;124m not found in axis\u001b[39m\u001b[38;5;124m\"\u001b[39m)\n\u001b[0;32m   6645\u001b[0m     indexer \u001b[38;5;241m=\u001b[39m indexer[\u001b[38;5;241m~\u001b[39mmask]\n\u001b[0;32m   6646\u001b[0m \u001b[38;5;28;01mreturn\u001b[39;00m \u001b[38;5;28mself\u001b[39m\u001b[38;5;241m.\u001b[39mdelete(indexer)\n",
      "\u001b[1;31mKeyError\u001b[0m: \"['Id', 'Species'] not found in axis\""
     ]
    }
   ],
   "source": [
    "X.drop(['Id','Species'], axis=1, inplace=True)\n"
   ]
  },
  {
   "cell_type": "code",
   "execution_count": 69,
   "id": "a731c6a2",
   "metadata": {},
   "outputs": [
    {
     "data": {
      "text/html": [
       "<div>\n",
       "<style scoped>\n",
       "    .dataframe tbody tr th:only-of-type {\n",
       "        vertical-align: middle;\n",
       "    }\n",
       "\n",
       "    .dataframe tbody tr th {\n",
       "        vertical-align: top;\n",
       "    }\n",
       "\n",
       "    .dataframe thead th {\n",
       "        text-align: right;\n",
       "    }\n",
       "</style>\n",
       "<table border=\"1\" class=\"dataframe\">\n",
       "  <thead>\n",
       "    <tr style=\"text-align: right;\">\n",
       "      <th></th>\n",
       "      <th>SepalLengthCm</th>\n",
       "      <th>SepalWidthCm</th>\n",
       "      <th>PetalLengthCm</th>\n",
       "      <th>PetalWidthCm</th>\n",
       "    </tr>\n",
       "  </thead>\n",
       "  <tbody>\n",
       "    <tr>\n",
       "      <th>0</th>\n",
       "      <td>5.1</td>\n",
       "      <td>3.5</td>\n",
       "      <td>1.4</td>\n",
       "      <td>0.2</td>\n",
       "    </tr>\n",
       "    <tr>\n",
       "      <th>1</th>\n",
       "      <td>4.9</td>\n",
       "      <td>3.0</td>\n",
       "      <td>1.4</td>\n",
       "      <td>0.2</td>\n",
       "    </tr>\n",
       "    <tr>\n",
       "      <th>2</th>\n",
       "      <td>4.7</td>\n",
       "      <td>3.2</td>\n",
       "      <td>1.3</td>\n",
       "      <td>0.2</td>\n",
       "    </tr>\n",
       "    <tr>\n",
       "      <th>3</th>\n",
       "      <td>4.6</td>\n",
       "      <td>3.1</td>\n",
       "      <td>1.5</td>\n",
       "      <td>0.2</td>\n",
       "    </tr>\n",
       "    <tr>\n",
       "      <th>4</th>\n",
       "      <td>5.0</td>\n",
       "      <td>3.6</td>\n",
       "      <td>1.4</td>\n",
       "      <td>0.2</td>\n",
       "    </tr>\n",
       "  </tbody>\n",
       "</table>\n",
       "</div>"
      ],
      "text/plain": [
       "   SepalLengthCm  SepalWidthCm  PetalLengthCm  PetalWidthCm\n",
       "0            5.1           3.5            1.4           0.2\n",
       "1            4.9           3.0            1.4           0.2\n",
       "2            4.7           3.2            1.3           0.2\n",
       "3            4.6           3.1            1.5           0.2\n",
       "4            5.0           3.6            1.4           0.2"
      ]
     },
     "execution_count": 69,
     "metadata": {},
     "output_type": "execute_result"
    }
   ],
   "source": [
    "X.head()"
   ]
  },
  {
   "cell_type": "code",
   "execution_count": 17,
   "id": "c3a692a4",
   "metadata": {},
   "outputs": [
    {
     "data": {
      "text/plain": [
       "<AxesSubplot:xlabel='SepalLengthCm', ylabel='SepalWidthCm'>"
      ]
     },
     "execution_count": 17,
     "metadata": {},
     "output_type": "execute_result"
    },
    {
     "data": {
      "image/png": "[encoded data removed]",
      "text/plain": [
       "<Figure size 432x288 with 1 Axes>"
      ]
     },
     "metadata": {
      "needs_background": "light"
     },
     "output_type": "display_data"
    }
   ],
   "source": [
    "sns.scatterplot(data=X,x= 'SepalLengthCm',y= 'SepalWidthCm', hue = 'Species')"
   ]
  },
  {
   "cell_type": "code",
   "execution_count": 44,
   "id": "f4ace745",
   "metadata": {},
   "outputs": [
    {
     "data": {
      "text/html": [
       "<div>\n",
       "<style scoped>\n",
       "    .dataframe tbody tr th:only-of-type {\n",
       "        vertical-align: middle;\n",
       "    }\n",
       "\n",
       "    .dataframe tbody tr th {\n",
       "        vertical-align: top;\n",
       "    }\n",
       "\n",
       "    .dataframe thead th {\n",
       "        text-align: right;\n",
       "    }\n",
       "</style>\n",
       "<table border=\"1\" class=\"dataframe\">\n",
       "  <thead>\n",
       "    <tr style=\"text-align: right;\">\n",
       "      <th></th>\n",
       "      <th>SepalLengthCm</th>\n",
       "      <th>SepalWidthCm</th>\n",
       "      <th>PetalLengthCm</th>\n",
       "      <th>PetalWidthCm</th>\n",
       "    </tr>\n",
       "  </thead>\n",
       "  <tbody>\n",
       "    <tr>\n",
       "      <th>95</th>\n",
       "      <td>5.7</td>\n",
       "      <td>3.0</td>\n",
       "      <td>4.2</td>\n",
       "      <td>1.2</td>\n",
       "    </tr>\n",
       "    <tr>\n",
       "      <th>139</th>\n",
       "      <td>6.9</td>\n",
       "      <td>3.1</td>\n",
       "      <td>5.4</td>\n",
       "      <td>2.1</td>\n",
       "    </tr>\n",
       "    <tr>\n",
       "      <th>62</th>\n",
       "      <td>6.0</td>\n",
       "      <td>2.2</td>\n",
       "      <td>4.0</td>\n",
       "      <td>1.0</td>\n",
       "    </tr>\n",
       "  </tbody>\n",
       "</table>\n",
       "</div>"
      ],
      "text/plain": [
       "     SepalLengthCm  SepalWidthCm  PetalLengthCm  PetalWidthCm\n",
       "95             5.7           3.0            4.2           1.2\n",
       "139            6.9           3.1            5.4           2.1\n",
       "62             6.0           2.2            4.0           1.0"
      ]
     },
     "execution_count": 44,
     "metadata": {},
     "output_type": "execute_result"
    }
   ],
   "source": [
    "# init centers\n",
    "centers = X.sample(3)\n"
   ]
  },
  {
   "cell_type": "code",
   "execution_count": 54,
   "id": "230f896e",
   "metadata": {},
   "outputs": [
    {
     "data": {
      "text/html": [
       "<div>\n",
       "<style scoped>\n",
       "    .dataframe tbody tr th:only-of-type {\n",
       "        vertical-align: middle;\n",
       "    }\n",
       "\n",
       "    .dataframe tbody tr th {\n",
       "        vertical-align: top;\n",
       "    }\n",
       "\n",
       "    .dataframe thead th {\n",
       "        text-align: right;\n",
       "    }\n",
       "</style>\n",
       "<table border=\"1\" class=\"dataframe\">\n",
       "  <thead>\n",
       "    <tr style=\"text-align: right;\">\n",
       "      <th></th>\n",
       "      <th>SepalLengthCm</th>\n",
       "      <th>SepalWidthCm</th>\n",
       "      <th>PetalLengthCm</th>\n",
       "      <th>PetalWidthCm</th>\n",
       "    </tr>\n",
       "  </thead>\n",
       "  <tbody>\n",
       "    <tr>\n",
       "      <th>95</th>\n",
       "      <td>5.7</td>\n",
       "      <td>3.0</td>\n",
       "      <td>4.2</td>\n",
       "      <td>1.2</td>\n",
       "    </tr>\n",
       "    <tr>\n",
       "      <th>139</th>\n",
       "      <td>6.9</td>\n",
       "      <td>3.1</td>\n",
       "      <td>5.4</td>\n",
       "      <td>2.1</td>\n",
       "    </tr>\n",
       "    <tr>\n",
       "      <th>62</th>\n",
       "      <td>6.0</td>\n",
       "      <td>2.2</td>\n",
       "      <td>4.0</td>\n",
       "      <td>1.0</td>\n",
       "    </tr>\n",
       "  </tbody>\n",
       "</table>\n",
       "</div>"
      ],
      "text/plain": [
       "     SepalLengthCm  SepalWidthCm  PetalLengthCm  PetalWidthCm\n",
       "95             5.7           3.0            4.2           1.2\n",
       "139            6.9           3.1            5.4           2.1\n",
       "62             6.0           2.2            4.0           1.0"
      ]
     },
     "execution_count": 54,
     "metadata": {},
     "output_type": "execute_result"
    }
   ],
   "source": [
    "centers"
   ]
  },
  {
   "cell_type": "code",
   "execution_count": 75,
   "id": "ef856ac2",
   "metadata": {},
   "outputs": [
    {
     "data": {
      "text/plain": [
       "0      3.074085\n",
       "1      3.078961\n",
       "2      3.232646\n",
       "3      3.083829\n",
       "4      3.112876\n",
       "         ...   \n",
       "145    1.791647\n",
       "146    1.319091\n",
       "147    1.509967\n",
       "148    1.749286\n",
       "149    1.100000\n",
       "Length: 150, dtype: float64"
      ]
     },
     "execution_count": 75,
     "metadata": {},
     "output_type": "execute_result"
    }
   ],
   "source": [
    "# X.iloc[:, :]\n",
    "# # centers.iloc[0,:]\n",
    "shit = (((X.iloc[:, :] - centers.iloc[0,:])**2).sum(axis=1))**0.5\n",
    "shit"
   ]
  },
  {
   "cell_type": "code",
   "execution_count": 88,
   "id": "49ba0681",
   "metadata": {},
   "outputs": [
    {
     "data": {
      "text/plain": [
       "array([[3.07408523, 4.79687398, 3.14642654],\n",
       "       [3.07896086, 4.86004115, 3.04138127],\n",
       "       [3.23264598, 5.02692749, 3.25883415],\n",
       "       [3.08382879, 4.91019348, 3.10805405],\n",
       "       [3.11287648, 4.84458461, 3.21869539],\n",
       "       [2.79105715, 4.41248229, 2.98328678],\n",
       "       [3.16543836, 4.96185449, 3.26343377],\n",
       "       [2.98998328, 4.74552421, 3.05450487],\n",
       "       [3.24653662, 5.08920426, 3.23264598],\n",
       "       [3.02489669, 4.81767579, 3.01330383],\n",
       "       [2.97825452, 4.6292548 , 3.082207  ],\n",
       "       [2.95465734, 4.74868403, 3.04630924],\n",
       "       [3.14006369, 4.94165964, 3.10644491],\n",
       "       [3.57491259, 5.40925133, 3.57071421],\n",
       "       [3.318132  , 4.82389884, 3.42928564],\n",
       "       [3.14483704, 4.60760241, 3.39705755],\n",
       "       [3.15436206, 4.75289386, 3.3015148 ],\n",
       "       [3.04302481, 4.7581509 , 3.122499  ],\n",
       "       [2.77488739, 4.34281015, 2.90344623],\n",
       "       [3.01662063, 4.70956474, 3.17962262],\n",
       "       [2.73861279, 4.43170396, 2.78028775],\n",
       "       [2.96310648, 4.65832588, 3.10966236],\n",
       "       [3.57910603, 5.33947563, 3.68239053],\n",
       "       [2.68141754, 4.41927596, 2.74954542],\n",
       "       [2.69443872, 4.51220567, 2.81602557],\n",
       "       [2.87228132, 4.65510472, 2.83548938],\n",
       "       [2.83725219, 4.5858478 , 2.92574777],\n",
       "       [2.96479342, 4.67653718, 3.03644529],\n",
       "       [3.04138127, 4.75289386, 3.07896086],\n",
       "       [2.96647939, 4.78539445, 3.01496269],\n",
       "       [2.9291637 , 4.73919824, 2.94108823],\n",
       "       [2.86006993, 4.52106182, 2.9       ],\n",
       "       [3.15594677, 4.80624594, 3.36303434],\n",
       "       [3.21247568, 4.77283983, 3.41320963],\n",
       "       [3.02489669, 4.81767579, 3.01330383],\n",
       "       [3.24499615, 4.98698306, 3.23728281],\n",
       "       [3.1144823 , 4.74763099, 3.14165561],\n",
       "       [3.02489669, 4.81767579, 3.01330383],\n",
       "       [3.33166625, 5.16526863, 3.33616546],\n",
       "       [2.96816442, 4.70637865, 3.02324329],\n",
       "       [3.15594677, 4.88057374, 3.23573794],\n",
       "       [3.33916157, 5.14295635, 3.1685959 ],\n",
       "       [3.33766385, 5.16526863, 3.38969025],\n",
       "       [2.80356915, 4.52327315, 2.93428015],\n",
       "       [2.63248932, 4.34396133, 2.85306852],\n",
       "       [3.0757113 , 4.8641546 , 3.05450487],\n",
       "       [2.95972972, 4.66690476, 3.12569992],\n",
       "       [3.17647603, 4.99099189, 3.21869539],\n",
       "       [2.98998328, 4.66261729, 3.10322413],\n",
       "       [3.06920185, 4.82286222, 3.1       ],\n",
       "       [1.42126704, 1.        , 1.62788206],\n",
       "       [0.84261498, 1.19582607, 1.28840987],\n",
       "       [1.42478068, 0.78102497, 1.63707055],\n",
       "       [0.76157731, 2.28035085, 0.59160798],\n",
       "       [0.96436508, 1.11803399, 1.1045361 ],\n",
       "       [0.37416574, 1.72626765, 0.88881944],\n",
       "       [0.92736185, 1.06770783, 1.46628783],\n",
       "       [1.36014705, 3.17962262, 1.3190906 ],\n",
       "       [0.99498744, 1.18743421, 1.14017543],\n",
       "       [0.68556546, 2.40624188, 1.02956301],\n",
       "       [1.42126704, 3.10483494, 1.13578167],\n",
       "       [0.36055513, 1.67630546, 0.96953597],\n",
       "       [0.9       , 2.18860686, 0.        ],\n",
       "       [0.678233  , 1.28840987, 1.07238053],\n",
       "       [0.6244998 , 2.36854386, 0.9486833 ],\n",
       "       [1.04403065, 1.23693169, 1.27279221],\n",
       "       [0.43588989, 1.69410743, 1.14017543],\n",
       "       [0.38729833, 2.06639783, 0.54772256],\n",
       "       [1.03440804, 1.57162336, 0.73484692],\n",
       "       [0.6       , 2.30217289, 0.51961524],\n",
       "       [0.89442719, 1.2083046 , 1.5132746 ],\n",
       "       [0.5       , 1.82482876, 0.678233  ],\n",
       "       [1.09087121, 1.15325626, 1.11355287],\n",
       "       [0.67082039, 1.42478068, 0.9486833 ],\n",
       "       [0.72111026, 1.46287388, 0.91104336],\n",
       "       [0.94339811, 1.26095202, 1.14891253],\n",
       "       [1.28452326, 0.97467943, 1.34164079],\n",
       "       [1.37477271, 0.60827625, 1.61864141],\n",
       "       [0.52915026, 1.42126704, 0.99498744],\n",
       "       [0.83066239, 2.55147016, 0.70710678],\n",
       "       [0.75498344, 2.45153013, 0.58309519],\n",
       "       [0.83066239, 2.55929678, 0.6164414 ],\n",
       "       [0.43588989, 2.10475652, 0.58309519],\n",
       "       [1.07238053, 1.14455231, 1.34907376],\n",
       "       [0.51961524, 1.85202592, 1.22474487],\n",
       "       [0.70710678, 1.4       , 1.43178211],\n",
       "       [1.161895  , 0.94339811, 1.42828569],\n",
       "       [0.9486833 , 1.62480768, 0.59160798],\n",
       "       [0.17320508, 2.00748599, 0.9486833 ],\n",
       "       [0.58309519, 2.2181073 , 0.65574385],\n",
       "       [0.48989795, 2.00499377, 0.78102497],\n",
       "       [0.6       , 1.33416641, 1.08166538],\n",
       "       [0.45825757, 2.05669638, 0.48989795],\n",
       "       [1.35277493, 3.14165561, 1.22474487],\n",
       "       [0.33166248, 1.98242276, 0.73484692],\n",
       "       [0.        , 1.92353841, 0.9       ],\n",
       "       [0.14142136, 1.88679623, 0.84261498],\n",
       "       [0.52915026, 1.54272486, 0.84261498],\n",
       "       [1.43527001, 3.21869539, 1.3820275 ],\n",
       "       [0.24494897, 1.96468827, 0.74161985],\n",
       "       [2.3194827 , 0.9591663 , 2.74772633],\n",
       "       [1.18321596, 1.22474487, 1.51986842],\n",
       "       [2.37907545, 0.54772256, 2.58263431],\n",
       "       [1.64012195, 0.72801099, 1.94422221],\n",
       "       [2.04939015, 0.58309519, 2.36008474],\n",
       "       [3.19061123, 1.39283883, 3.34215499],\n",
       "       [1.10905365, 2.30867928, 1.42828569],\n",
       "       [2.70924344, 1.04880885, 2.84780617],\n",
       "       [2.04205779, 0.80622577, 2.11187121],\n",
       "       [2.81247222, 0.99498744, 3.17175031],\n",
       "       [1.45945195, 0.51961524, 1.86010752],\n",
       "       [1.50996689, 0.678233  , 1.70587221],\n",
       "       [1.92613603, 0.17320508, 2.17715411],\n",
       "       [1.23693169, 1.40356688, 1.47648231],\n",
       "       [1.51657509, 1.21655251, 1.88944436],\n",
       "       [1.7175564 , 0.55677644, 2.13072758],\n",
       "       [1.64012195, 0.51961524, 1.94422221],\n",
       "       [3.44818793, 1.68226038, 3.76563408],\n",
       "       [3.55808937, 1.78325545, 3.62629287],\n",
       "       [1.2083046 , 1.46287388, 1.11803399],\n",
       "       [2.22261108, 0.37416574, 2.52784493],\n",
       "       [1.08627805, 1.42828569, 1.52643375],\n",
       "       [3.30605505, 1.55884573, 3.39705755],\n",
       "       [1.14017543, 0.92736185, 1.33790882],\n",
       "       [2.03715488, 0.41231056, 2.40831892],\n",
       "       [2.42693222, 0.74161985, 2.66082694],\n",
       "       [1.00498756, 1.01488916, 1.29614814],\n",
       "       [1.00498756, 0.99498744, 1.44913767],\n",
       "       [1.81659021, 0.6164414 , 2.07123152],\n",
       "       [2.22934968, 0.71414284, 2.38327506],\n",
       "       [2.65141472, 0.93273791, 2.74590604],\n",
       "       [3.31058907, 1.58113883, 3.59583092],\n",
       "       [1.86815417, 0.6244998 , 2.12602916],\n",
       "       [1.14017543, 0.9486833 , 1.3820275 ],\n",
       "       [1.52315462, 1.19163753, 1.7       ],\n",
       "       [2.96984848, 1.08627805, 3.10322413],\n",
       "       [1.97989899, 0.76157731, 2.45967478],\n",
       "       [1.59687194, 0.59160798, 1.96468827],\n",
       "       [0.9       , 1.12694277, 1.38564065],\n",
       "       [1.92353841, 0.        , 2.18860686],\n",
       "       [2.1       , 0.41231056, 2.41246762],\n",
       "       [1.8627936 , 0.36055513, 2.12602916],\n",
       "       [1.18321596, 1.22474487, 1.51986842],\n",
       "       [2.3130067 , 0.55677644, 2.63438797],\n",
       "       [2.24276615, 0.57445626, 2.61533937],\n",
       "       [1.79164729, 0.36055513, 2.06397674],\n",
       "       [1.3190906 , 0.9591663 , 1.4106736 ],\n",
       "       [1.50996689, 0.46904158, 1.82482876],\n",
       "       [1.74928557, 0.78740079, 2.26495033],\n",
       "       [1.1       , 1.09087121, 1.58113883]])"
      ]
     },
     "execution_count": 88,
     "metadata": {},
     "output_type": "execute_result"
    }
   ],
   "source": [
    "distances = np.zeros((len(X.index),3))\n",
    "\n",
    "for i in range(3):\n",
    "    distances[:,i] = (((X.iloc[:, :] - centers.iloc[i,:])**2).sum(axis=1))**0.5\n",
    "distances"
   ]
  },
  {
   "cell_type": "code",
   "execution_count": 89,
   "id": "f79b2537",
   "metadata": {},
   "outputs": [],
   "source": [
    "closest = np.argmin(distances, axis = 1)"
   ]
  },
  {
   "cell_type": "code",
   "execution_count": 90,
   "id": "38f9185c",
   "metadata": {
    "scrolled": true
   },
   "outputs": [
    {
     "data": {
      "text/plain": [
       "array([0, 2, 0, 0, 0, 0, 0, 0, 2, 2, 0, 0, 2, 2, 0, 0, 0, 0, 0, 0, 0, 0,\n",
       "       0, 0, 0, 2, 0, 0, 0, 0, 0, 0, 0, 0, 2, 2, 0, 2, 0, 0, 0, 2, 0, 0,\n",
       "       0, 2, 0, 0, 0, 0, 1, 0, 1, 2, 0, 0, 0, 2, 0, 0, 2, 0, 2, 0, 0, 0,\n",
       "       0, 0, 2, 2, 0, 0, 0, 0, 0, 0, 1, 1, 0, 2, 2, 2, 0, 0, 0, 0, 1, 2,\n",
       "       0, 0, 0, 0, 0, 2, 0, 0, 0, 0, 2, 0, 1, 0, 1, 1, 1, 1, 0, 1, 1, 1,\n",
       "       1, 1, 1, 0, 1, 1, 1, 1, 1, 2, 1, 0, 1, 1, 1, 1, 0, 1, 1, 1, 1, 1,\n",
       "       1, 1, 1, 1, 1, 1, 0, 1, 1, 1, 0, 1, 1, 1, 1, 1, 1, 1], dtype=int64)"
      ]
     },
     "execution_count": 90,
     "metadata": {},
     "output_type": "execute_result"
    }
   ],
   "source": [
    "closest"
   ]
  },
  {
   "cell_type": "code",
   "execution_count": 98,
   "id": "e34548aa",
   "metadata": {},
   "outputs": [
    {
     "data": {
      "text/html": [
       "<div>\n",
       "<style scoped>\n",
       "    .dataframe tbody tr th:only-of-type {\n",
       "        vertical-align: middle;\n",
       "    }\n",
       "\n",
       "    .dataframe tbody tr th {\n",
       "        vertical-align: top;\n",
       "    }\n",
       "\n",
       "    .dataframe thead th {\n",
       "        text-align: right;\n",
       "    }\n",
       "</style>\n",
       "<table border=\"1\" class=\"dataframe\">\n",
       "  <thead>\n",
       "    <tr style=\"text-align: right;\">\n",
       "      <th></th>\n",
       "      <th>SepalLengthCm</th>\n",
       "      <th>SepalWidthCm</th>\n",
       "      <th>PetalLengthCm</th>\n",
       "      <th>PetalWidthCm</th>\n",
       "    </tr>\n",
       "  </thead>\n",
       "  <tbody>\n",
       "    <tr>\n",
       "      <th>1</th>\n",
       "      <td>4.9</td>\n",
       "      <td>3.0</td>\n",
       "      <td>1.4</td>\n",
       "      <td>0.2</td>\n",
       "    </tr>\n",
       "    <tr>\n",
       "      <th>8</th>\n",
       "      <td>4.4</td>\n",
       "      <td>2.9</td>\n",
       "      <td>1.4</td>\n",
       "      <td>0.2</td>\n",
       "    </tr>\n",
       "    <tr>\n",
       "      <th>9</th>\n",
       "      <td>4.9</td>\n",
       "      <td>3.1</td>\n",
       "      <td>1.5</td>\n",
       "      <td>0.1</td>\n",
       "    </tr>\n",
       "    <tr>\n",
       "      <th>12</th>\n",
       "      <td>4.8</td>\n",
       "      <td>3.0</td>\n",
       "      <td>1.4</td>\n",
       "      <td>0.1</td>\n",
       "    </tr>\n",
       "    <tr>\n",
       "      <th>13</th>\n",
       "      <td>4.3</td>\n",
       "      <td>3.0</td>\n",
       "      <td>1.1</td>\n",
       "      <td>0.1</td>\n",
       "    </tr>\n",
       "    <tr>\n",
       "      <th>25</th>\n",
       "      <td>5.0</td>\n",
       "      <td>3.0</td>\n",
       "      <td>1.6</td>\n",
       "      <td>0.2</td>\n",
       "    </tr>\n",
       "    <tr>\n",
       "      <th>34</th>\n",
       "      <td>4.9</td>\n",
       "      <td>3.1</td>\n",
       "      <td>1.5</td>\n",
       "      <td>0.1</td>\n",
       "    </tr>\n",
       "    <tr>\n",
       "      <th>35</th>\n",
       "      <td>5.0</td>\n",
       "      <td>3.2</td>\n",
       "      <td>1.2</td>\n",
       "      <td>0.2</td>\n",
       "    </tr>\n",
       "    <tr>\n",
       "      <th>37</th>\n",
       "      <td>4.9</td>\n",
       "      <td>3.1</td>\n",
       "      <td>1.5</td>\n",
       "      <td>0.1</td>\n",
       "    </tr>\n",
       "    <tr>\n",
       "      <th>41</th>\n",
       "      <td>4.5</td>\n",
       "      <td>2.3</td>\n",
       "      <td>1.3</td>\n",
       "      <td>0.3</td>\n",
       "    </tr>\n",
       "    <tr>\n",
       "      <th>45</th>\n",
       "      <td>4.8</td>\n",
       "      <td>3.0</td>\n",
       "      <td>1.4</td>\n",
       "      <td>0.3</td>\n",
       "    </tr>\n",
       "    <tr>\n",
       "      <th>53</th>\n",
       "      <td>5.5</td>\n",
       "      <td>2.3</td>\n",
       "      <td>4.0</td>\n",
       "      <td>1.3</td>\n",
       "    </tr>\n",
       "    <tr>\n",
       "      <th>57</th>\n",
       "      <td>4.9</td>\n",
       "      <td>2.4</td>\n",
       "      <td>3.3</td>\n",
       "      <td>1.0</td>\n",
       "    </tr>\n",
       "    <tr>\n",
       "      <th>60</th>\n",
       "      <td>5.0</td>\n",
       "      <td>2.0</td>\n",
       "      <td>3.5</td>\n",
       "      <td>1.0</td>\n",
       "    </tr>\n",
       "    <tr>\n",
       "      <th>62</th>\n",
       "      <td>6.0</td>\n",
       "      <td>2.2</td>\n",
       "      <td>4.0</td>\n",
       "      <td>1.0</td>\n",
       "    </tr>\n",
       "    <tr>\n",
       "      <th>68</th>\n",
       "      <td>6.2</td>\n",
       "      <td>2.2</td>\n",
       "      <td>4.5</td>\n",
       "      <td>1.5</td>\n",
       "    </tr>\n",
       "    <tr>\n",
       "      <th>69</th>\n",
       "      <td>5.6</td>\n",
       "      <td>2.5</td>\n",
       "      <td>3.9</td>\n",
       "      <td>1.1</td>\n",
       "    </tr>\n",
       "    <tr>\n",
       "      <th>79</th>\n",
       "      <td>5.7</td>\n",
       "      <td>2.6</td>\n",
       "      <td>3.5</td>\n",
       "      <td>1.0</td>\n",
       "    </tr>\n",
       "    <tr>\n",
       "      <th>80</th>\n",
       "      <td>5.5</td>\n",
       "      <td>2.4</td>\n",
       "      <td>3.8</td>\n",
       "      <td>1.1</td>\n",
       "    </tr>\n",
       "    <tr>\n",
       "      <th>81</th>\n",
       "      <td>5.5</td>\n",
       "      <td>2.4</td>\n",
       "      <td>3.7</td>\n",
       "      <td>1.0</td>\n",
       "    </tr>\n",
       "    <tr>\n",
       "      <th>87</th>\n",
       "      <td>6.3</td>\n",
       "      <td>2.3</td>\n",
       "      <td>4.4</td>\n",
       "      <td>1.3</td>\n",
       "    </tr>\n",
       "    <tr>\n",
       "      <th>93</th>\n",
       "      <td>5.0</td>\n",
       "      <td>2.3</td>\n",
       "      <td>3.3</td>\n",
       "      <td>1.0</td>\n",
       "    </tr>\n",
       "    <tr>\n",
       "      <th>98</th>\n",
       "      <td>5.1</td>\n",
       "      <td>2.5</td>\n",
       "      <td>3.0</td>\n",
       "      <td>1.1</td>\n",
       "    </tr>\n",
       "    <tr>\n",
       "      <th>119</th>\n",
       "      <td>6.0</td>\n",
       "      <td>2.2</td>\n",
       "      <td>5.0</td>\n",
       "      <td>1.5</td>\n",
       "    </tr>\n",
       "  </tbody>\n",
       "</table>\n",
       "</div>"
      ],
      "text/plain": [
       "     SepalLengthCm  SepalWidthCm  PetalLengthCm  PetalWidthCm\n",
       "1              4.9           3.0            1.4           0.2\n",
       "8              4.4           2.9            1.4           0.2\n",
       "9              4.9           3.1            1.5           0.1\n",
       "12             4.8           3.0            1.4           0.1\n",
       "13             4.3           3.0            1.1           0.1\n",
       "25             5.0           3.0            1.6           0.2\n",
       "34             4.9           3.1            1.5           0.1\n",
       "35             5.0           3.2            1.2           0.2\n",
       "37             4.9           3.1            1.5           0.1\n",
       "41             4.5           2.3            1.3           0.3\n",
       "45             4.8           3.0            1.4           0.3\n",
       "53             5.5           2.3            4.0           1.3\n",
       "57             4.9           2.4            3.3           1.0\n",
       "60             5.0           2.0            3.5           1.0\n",
       "62             6.0           2.2            4.0           1.0\n",
       "68             6.2           2.2            4.5           1.5\n",
       "69             5.6           2.5            3.9           1.1\n",
       "79             5.7           2.6            3.5           1.0\n",
       "80             5.5           2.4            3.8           1.1\n",
       "81             5.5           2.4            3.7           1.0\n",
       "87             6.3           2.3            4.4           1.3\n",
       "93             5.0           2.3            3.3           1.0\n",
       "98             5.1           2.5            3.0           1.1\n",
       "119            6.0           2.2            5.0           1.5"
      ]
     },
     "execution_count": 98,
     "metadata": {},
     "output_type": "execute_result"
    }
   ],
   "source": [
    "X[closest == 2]"
   ]
  },
  {
   "cell_type": "code",
   "execution_count": 99,
   "id": "613adf55",
   "metadata": {},
   "outputs": [
    {
     "data": {
      "text/html": [
       "<div>\n",
       "<style scoped>\n",
       "    .dataframe tbody tr th:only-of-type {\n",
       "        vertical-align: middle;\n",
       "    }\n",
       "\n",
       "    .dataframe tbody tr th {\n",
       "        vertical-align: top;\n",
       "    }\n",
       "\n",
       "    .dataframe thead th {\n",
       "        text-align: right;\n",
       "    }\n",
       "</style>\n",
       "<table border=\"1\" class=\"dataframe\">\n",
       "  <thead>\n",
       "    <tr style=\"text-align: right;\">\n",
       "      <th></th>\n",
       "      <th>SepalLengthCm</th>\n",
       "      <th>SepalWidthCm</th>\n",
       "      <th>PetalLengthCm</th>\n",
       "      <th>PetalWidthCm</th>\n",
       "    </tr>\n",
       "  </thead>\n",
       "  <tbody>\n",
       "    <tr>\n",
       "      <th>95</th>\n",
       "      <td>5.7</td>\n",
       "      <td>3.0</td>\n",
       "      <td>4.2</td>\n",
       "      <td>1.2</td>\n",
       "    </tr>\n",
       "    <tr>\n",
       "      <th>139</th>\n",
       "      <td>6.9</td>\n",
       "      <td>3.1</td>\n",
       "      <td>5.4</td>\n",
       "      <td>2.1</td>\n",
       "    </tr>\n",
       "    <tr>\n",
       "      <th>62</th>\n",
       "      <td>6.0</td>\n",
       "      <td>2.2</td>\n",
       "      <td>4.0</td>\n",
       "      <td>1.0</td>\n",
       "    </tr>\n",
       "  </tbody>\n",
       "</table>\n",
       "</div>"
      ],
      "text/plain": [
       "     SepalLengthCm  SepalWidthCm  PetalLengthCm  PetalWidthCm\n",
       "95             5.7           3.0            4.2           1.2\n",
       "139            6.9           3.1            5.4           2.1\n",
       "62             6.0           2.2            4.0           1.0"
      ]
     },
     "execution_count": 99,
     "metadata": {},
     "output_type": "execute_result"
    }
   ],
   "source": [
    "centers"
   ]
  },
  {
   "cell_type": "code",
   "execution_count": null,
   "id": "c222ad25",
   "metadata": {},
   "outputs": [],
   "source": []
  },
  {
   "cell_type": "code",
   "execution_count": 10,
   "id": "fc585e4f",
   "metadata": {},
   "outputs": [],
   "source": []
  },
  {
   "cell_type": "code",
   "execution_count": 12,
   "id": "f98907f0",
   "metadata": {},
   "outputs": [],
   "source": []
  },
  {
   "cell_type": "code",
   "execution_count": 13,
   "id": "7c050843",
   "metadata": {},
   "outputs": [
    {
     "data": {
      "text/plain": [
       "array([2, 1, 2, 2, 0, 1, 0, 0, 1, 2, 1, 2, 1, 2, 2, 1, 1, 2, 2, 0],\n",
       "      dtype=int64)"
      ]
     },
     "execution_count": 13,
     "metadata": {},
     "output_type": "execute_result"
    }
   ],
   "source": []
  },
  {
   "cell_type": "code",
   "execution_count": 17,
   "id": "b7c6d318",
   "metadata": {
    "scrolled": true
   },
   "outputs": [
    {
     "data": {
      "text/plain": [
       "array([0.55084464, 0.15675788])"
      ]
     },
     "execution_count": 17,
     "metadata": {},
     "output_type": "execute_result"
    }
   ],
   "source": [
    "X[closest == 0].mean(axis=0)"
   ]
  },
  {
   "cell_type": "code",
   "execution_count": 100,
   "id": "12a2545a",
   "metadata": {},
   "outputs": [
    {
     "data": {
      "text/plain": [
       "SepalLengthCm    5.497468\n",
       "SepalWidthCm     3.194937\n",
       "PetalLengthCm    2.988608\n",
       "PetalWidthCm     0.870886\n",
       "dtype: float64"
      ]
     },
     "execution_count": 100,
     "metadata": {},
     "output_type": "execute_result"
    }
   ],
   "source": [
    "X[closest == i].mean(axis=0)"
   ]
  },
  {
   "cell_type": "code",
   "execution_count": 25,
   "id": "a804c0d3",
   "metadata": {},
   "outputs": [
    {
     "name": "stdout",
     "output_type": "stream",
     "text": [
      "[0 0 0 0 0 0 0 0 0 0 0 0 0 0 0 0 0 0 0 0]\n",
      "[2 0 2 1 1 1 0 1 1 2 1 2 1 2 2 1 0 2 2 1]\n",
      "[2 0 2 1 1 1 0 1 1 2 0 2 1 2 2 0 0 2 2 1]\n",
      "[2 0 2 1 1 1 0 1 1 2 0 2 1 2 1 0 0 2 2 1]\n",
      "[2 0 2 1 1 1 0 1 1 2 0 1 1 2 1 0 0 2 2 1]\n",
      "[2 0 2 1 1 1 0 1 0 2 0 1 1 2 1 0 0 2 2 1]\n",
      "[2 0 2 1 1 0 1 0 0 2 0 1 1 2 1 0 0 2 2 1]\n",
      "[2 0 2 1 1 0 1 0 0 2 0 1 0 2 1 0 0 2 2 1]\n"
     ]
    }
   ],
   "source": [
    "np.random.seed(4160659)\n",
    "# X[closest == 0].mean(axis=0)\n",
    "centers = X[np.random.choice(n,k,replace=False)]\n",
    "closest =np.zeros(n).astype(int)\n",
    "\n",
    "\n",
    "while True:\n",
    "    old_closest = closest.copy()\n",
    "#     for iteration in range(10):\n",
    "    print(closest)\n",
    "    distances = cdist(X,centers)\n",
    "    closest = np.argmin(distances,axis=1)\n",
    "\n",
    "    for i in range(k):\n",
    "        centers[i,:] = X[closest == i].mean(axis=0)\n",
    "\n",
    "    if all(closest == old_closest):\n",
    "        break"
   ]
  },
  {
   "cell_type": "code",
   "execution_count": 27,
   "id": "2d3cf2a7",
   "metadata": {},
   "outputs": [
    {
     "data": {
      "text/plain": [
       "<matplotlib.collections.PathCollection at 0x209a2c7beb0>"
      ]
     },
     "execution_count": 27,
     "metadata": {},
     "output_type": "execute_result"
    },
    {
     "data": {
      "image/png": "[encoded data removed]",
      "text/plain": [
       "<Figure size 432x288 with 1 Axes>"
      ]
     },
     "metadata": {
      "needs_background": "light"
     },
     "output_type": "display_data"
    }
   ],
   "source": [
    "plt.scatter(X[:,0],X[:,1],c=closest)"
   ]
  },
  {
   "cell_type": "code",
   "execution_count": 28,
   "id": "1cd06b35",
   "metadata": {},
   "outputs": [],
   "source": [
    "def kmenas(X,k):\n",
    "\n",
    "    x = X.shape[0]\n",
    "    centers = X[np.random.choice(n,k,replace=False)]\n",
    "    closest =np.zeros(n).astype(int)\n",
    "\n",
    "\n",
    "    while True:\n",
    "        old_closest = closest.copy()\n",
    "    #     for iteration in range(10):\n",
    "        print(closest)\n",
    "        distances = cdist(X,centers)\n",
    "        closest = np.argmin(distances,axis=1)\n",
    "\n",
    "        for i in range(k):\n",
    "            centers[i,:] = X[closest == i].mean(axis=0)\n",
    "\n",
    "        if all(closest == old_closest):\n",
    "            break\n",
    "            \n",
    "    return closest, centers"
   ]
  },
  {
   "cell_type": "code",
   "execution_count": 30,
   "id": "91908e29",
   "metadata": {},
   "outputs": [
    {
     "name": "stdout",
     "output_type": "stream",
     "text": [
      "[0 0 0 0 0 0 0 0 0 0 0 0 0 0 0 0 0 0 0 0]\n",
      "[0 1 0 2 2 1 2 1 1 0 1 2 2 0 2 1 1 0 0 2]\n",
      "[0 1 0 2 2 1 2 1 1 0 1 2 1 0 2 1 1 0 0 2]\n",
      "[0 1 0 2 2 1 2 1 1 0 1 2 1 0 2 1 1 0 0 2]\n",
      "[[0.56944108 0.8141337 ]\n",
      " [0.80751961 0.18099668]\n",
      " [0.42090709 0.25537674]]\n"
     ]
    }
   ],
   "source": [
    "labels, centers = kmenas(X,3)\n",
    "print(labels)\n",
    "print(centers)"
   ]
  },
  {
   "cell_type": "code",
   "execution_count": null,
   "id": "e3448403",
   "metadata": {},
   "outputs": [],
   "source": []
  }
 ],
 "metadata": {
  "kernelspec": {
   "display_name": "K_Means_Algorithm",
   "language": "python",
   "name": "k_means_algorithm"
  },
  "language_info": {
   "codemirror_mode": {
    "name": "ipython",
    "version": 3
   },
   "file_extension": ".py",
   "mimetype": "text/x-python",
   "name": "python",
   "nbconvert_exporter": "python",
   "pygments_lexer": "ipython3",
   "version": "3.9.12"
  }
 },
 "nbformat": 4,
 "nbformat_minor": 5
}
